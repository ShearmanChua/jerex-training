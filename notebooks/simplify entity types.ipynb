{
 "cells": [
  {
   "cell_type": "code",
   "execution_count": 1,
   "metadata": {},
   "outputs": [],
   "source": [
    "import pandas as pd\n",
    "import json\n",
    "import os\n",
    "import json\n",
    "import re"
   ]
  },
  {
   "cell_type": "code",
   "execution_count": 2,
   "metadata": {},
   "outputs": [],
   "source": [
    "def read_dataset(filepath):\n",
    "    with open(filepath) as file:\n",
    "        data = json.load(file)\n",
    "    file.close()\n",
    "    return data"
   ]
  },
  {
   "cell_type": "code",
   "execution_count": 9,
   "metadata": {},
   "outputs": [],
   "source": [
    "dwie_types = read_dataset('../data/datasets/dwie_joint/types.json')"
   ]
  },
  {
   "cell_type": "code",
   "execution_count": 10,
   "metadata": {},
   "outputs": [
    {
     "data": {
      "text/plain": [
       "dict_keys(['entities', 'relations'])"
      ]
     },
     "execution_count": 10,
     "metadata": {},
     "output_type": "execute_result"
    }
   ],
   "source": [
    "dwie_types.keys()"
   ]
  },
  {
   "cell_type": "code",
   "execution_count": 11,
   "metadata": {},
   "outputs": [],
   "source": [
    "entities = dwie_types['entities']"
   ]
  },
  {
   "cell_type": "code",
   "execution_count": 12,
   "metadata": {},
   "outputs": [
    {
     "data": {
      "text/plain": [
       "dict_keys(['entity', 'case', 'manager', 'military_equipment', 'music_title', 'concept', 'gpe', 'journalist', 'sport_referee', 'culture_org', 'employee', 'research_center', 'music_band', 'tv_award', 'festive_event', 'culture_misc', 'sport_award', 'value', 'gpe2', 'gov_per', 'media', 'police_org', 'artist', 'science_per', 'species', 'armed_movement', 'politician_national', 'education_study', 'religious_event', 'royalty', 'writer', 'book_award', 'waterbody', 'exhibition_title', 'festival', 'researcher', 'politics_per', 'policy_institute', 'justice_misc', 'competition', 'politics_misc', 'gpe1-x', 'gpe0', 'offender', 'politics_org', 'sport_coach', 'loc-x', 'gpe0-x', 'technology', 'sport_player', 'sport_team', 'musician', 'police_per', 'military_alliance', 'tv_title', 'religion', 'regio', 'work_of_art', 'movement', 'character', 'culture_facility', 'brand', 'military_mission', 'governmental_organisation', 'party', 'district', 'research_journal', 'money', 'filmfestival', 'military_facility', 'education_student', 'health_drug', 'politician', 'teacher', 'religion_org', 'sport_competition', 'religion_facility', 'incident', 'business_org', 'war', 'footer', 'protest', 'education_facility', 'person', 'film_title', 'advisor', 'storm', 'agency', 'gpe2-x', 'culture_title', 'summit_meeting', 'education_org', 'victim', 'military_rebel', 'health_disease', 'holiday', 'igo', 'prison', 'role', 'health_per', 'history', 'army', 'education_per', 'theatre_title', 'treaty', 'police', 'culture_per', 'event', 'advocacy', 'musical_title', 'actor', 'minister', 'skip', 'politician_local', 'religion-x', 'business_per', 'military_personnel', 'ethnicity', 'film_award', 'politics_facility', 'object', 'judge', 'product', 'organization', 'project', 'health_facility', 'criminal_org', 'book_title', 'company', 'gpe1', 'report', 'clergy', 'island', 'deity', 'ngo', 'location', 'business_misc', 'mountain', 'relative', 'union_member', 'court', 'time', 'street', 'business_facility', 'union', 'other', 'sport_facility', 'sport_org', 'justice_per', 'loc', 'celestial_loc', 'market_exchange', 'scandal', 'trade_fair', 'politics_event', 'activist', 'ministry', 'justice_org', 'facility', 'filmmaker', 'award', 'market_index', 'union_rep', 'sport_head', 'so', 'head_of_gov', 'health_org', 'religion_misc', 'politician_regional', 'union_head', 'ideology', 'language', 'none', 'head_of_state', 'misc'])"
      ]
     },
     "execution_count": 12,
     "metadata": {},
     "output_type": "execute_result"
    }
   ],
   "source": [
    "entities.keys()"
   ]
  },
  {
   "cell_type": "code",
   "execution_count": 14,
   "metadata": {},
   "outputs": [],
   "source": [
    "dwie_train = read_dataset('../data/datasets/dwie_joint/train_joint.json')"
   ]
  },
  {
   "cell_type": "code",
   "execution_count": 17,
   "metadata": {},
   "outputs": [
    {
     "data": {
      "text/plain": [
       "dict_keys(['vertexSet', 'labels', 'title', 'sents'])"
      ]
     },
     "execution_count": 17,
     "metadata": {},
     "output_type": "execute_result"
    }
   ],
   "source": [
    "dwie_train[0].keys()"
   ]
  },
  {
   "cell_type": "code",
   "execution_count": 18,
   "metadata": {},
   "outputs": [
    {
     "data": {
      "text/plain": [
       "[[{'name': 'Western', 'pos': [14, 15], 'sent_id': 8, 'type': 'regio'},\n",
       "  {'name': 'West', 'pos': [13, 14], 'sent_id': 21, 'type': 'regio'}],\n",
       " [{'name': 'Christophe Kayumba',\n",
       "   'pos': [5, 7],\n",
       "   'sent_id': 30,\n",
       "   'type': 'person'},\n",
       "  {'name': 'Kayumba', 'pos': [11, 12], 'sent_id': 32, 'type': 'person'},\n",
       "  {'name': 'Kayumba', 'pos': [2, 3], 'sent_id': 45, 'type': 'person'},\n",
       "  {'name': 'Kayumba', 'pos': [7, 8], 'sent_id': 47, 'type': 'person'}],\n",
       " [{'name': 'Magufuli', 'pos': [2, 3], 'sent_id': 0, 'type': 'politician'},\n",
       "  {'name': 'John Magufuli', 'pos': [5, 7], 'sent_id': 2, 'type': 'politician'},\n",
       "  {'name': 'the bulldozer', 'pos': [2, 4], 'sent_id': 5, 'type': 'politician'},\n",
       "  {'name': 'John Pombe Magufuli',\n",
       "   'pos': [14, 17],\n",
       "   'sent_id': 5,\n",
       "   'type': 'politician'},\n",
       "  {'name': 'Magufuli', 'pos': [7, 8], 'sent_id': 8, 'type': 'politician'},\n",
       "  {'name': 'Magufuli', 'pos': [0, 1], 'sent_id': 11, 'type': 'politician'},\n",
       "  {'name': 'Magufuli', 'pos': [0, 1], 'sent_id': 12, 'type': 'politician'},\n",
       "  {'name': 'Magufuli', 'pos': [6, 7], 'sent_id': 15, 'type': 'politician'},\n",
       "  {'name': 'Magufuli', 'pos': [3, 4], 'sent_id': 20, 'type': 'politician'},\n",
       "  {'name': 'Magufuli', 'pos': [12, 13], 'sent_id': 23, 'type': 'politician'},\n",
       "  {'name': 'Magufuli', 'pos': [13, 14], 'sent_id': 25, 'type': 'politician'},\n",
       "  {'name': 'Magufuli', 'pos': [1, 2], 'sent_id': 26, 'type': 'politician'},\n",
       "  {'name': 'Magufuli', 'pos': [18, 19], 'sent_id': 30, 'type': 'politician'},\n",
       "  {'name': 'Magufuli', 'pos': [1, 2], 'sent_id': 31, 'type': 'politician'},\n",
       "  {'name': 'Magufuli', 'pos': [6, 7], 'sent_id': 34, 'type': 'politician'},\n",
       "  {'name': 'Magufuli', 'pos': [8, 9], 'sent_id': 44, 'type': 'politician'},\n",
       "  {'name': 'Magufuli', 'pos': [8, 9], 'sent_id': 46, 'type': 'politician'}],\n",
       " [{'name': 'Tanzania', 'pos': [0, 1], 'sent_id': 0, 'type': 'location'},\n",
       "  {'name': 'Tanzania', 'pos': [11, 12], 'sent_id': 1, 'type': 'location'},\n",
       "  {'name': 'Tanzania', 'pos': [11, 12], 'sent_id': 5, 'type': 'location'},\n",
       "  {'name': 'Tanzania', 'pos': [28, 29], 'sent_id': 5, 'type': 'location'},\n",
       "  {'name': 'Tanzania', 'pos': [23, 24], 'sent_id': 23, 'type': 'location'}],\n",
       " [{'name': 'Mary Mahu', 'pos': [4, 6], 'sent_id': 41, 'type': 'person'},\n",
       "  {'name': 'Mahu', 'pos': [25, 26], 'sent_id': 42, 'type': 'person'}],\n",
       " [{'name': 'Msafiri Musa', 'pos': [3, 5], 'sent_id': 37, 'type': 'person'},\n",
       "  {'name': 'Musa', 'pos': [9, 10], 'sent_id': 40, 'type': 'person'}],\n",
       " [{'name': 'Paul Kagame', 'pos': [8, 10], 'sent_id': 23, 'type': 'politician'},\n",
       "  {'name': 'Kagame', 'pos': [11, 12], 'sent_id': 25, 'type': 'politician'}],\n",
       " [{'name': 'Prevention and Combating of Corruption Bureau',\n",
       "   'pos': [14, 20],\n",
       "   'sent_id': 11,\n",
       "   'type': 'organization'},\n",
       "  {'name': 'PCCB', 'pos': [21, 22], 'sent_id': 11, 'type': 'organization'}],\n",
       " [{'name': 'London', 'pos': [8, 9], 'sent_id': 1, 'type': 'location'}],\n",
       " [{'name': 'President', 'pos': [4, 5], 'sent_id': 2, 'type': 'role'},\n",
       "  {'name': 'President', 'pos': [13, 14], 'sent_id': 5, 'type': 'role'},\n",
       "  {'name': 'President', 'pos': [7, 8], 'sent_id': 46, 'type': 'role'}],\n",
       " [{'name': 'East African', 'pos': [1, 3], 'sent_id': 7, 'type': 'loc-x'}],\n",
       " [{'name': 'Africa', 'pos': [12, 13], 'sent_id': 7, 'type': 'regio'},\n",
       "  {'name': 'Africa', 'pos': [23, 24], 'sent_id': 26, 'type': 'regio'}],\n",
       " [{'name': 'Transparency International',\n",
       "   'pos': [27, 29],\n",
       "   'sent_id': 7,\n",
       "   'type': 'organization'}],\n",
       " [{'name': '2015', 'pos': [30, 31], 'sent_id': 7, 'type': 'time'}],\n",
       " [{'name': 'Corruption Index',\n",
       "   'pos': [31, 33],\n",
       "   'sent_id': 7,\n",
       "   'type': 'report'}],\n",
       " [{'name': 'November 2015', 'pos': [4, 6], 'sent_id': 8, 'type': 'time'}],\n",
       " [{'name': 'November', 'pos': [1, 2], 'sent_id': 9, 'type': 'time'}],\n",
       " [{'name': 'December', 'pos': [3, 4], 'sent_id': 9, 'type': 'time'}],\n",
       " [{'name': 'Tanzania Revenue Authority',\n",
       "   'pos': [10, 13],\n",
       "   'sent_id': 9,\n",
       "   'type': 'organization'}],\n",
       " [{'name': 'Commissioner General',\n",
       "   'pos': [15, 17],\n",
       "   'sent_id': 9,\n",
       "   'type': 'role'}],\n",
       " [{'name': 'Rashid Bade',\n",
       "   'pos': [17, 19],\n",
       "   'sent_id': 9,\n",
       "   'type': 'politics_per'}],\n",
       " [{'name': 'Tanzania Ports Authority',\n",
       "   'pos': [8, 11],\n",
       "   'sent_id': 10,\n",
       "   'type': 'organization'}],\n",
       " [{'name': 'Ephraim Mgawe',\n",
       "   'pos': [12, 14],\n",
       "   'sent_id': 10,\n",
       "   'type': 'politics_per'}],\n",
       " [{'name': '$40 million', 'pos': [24, 27], 'sent_id': 10, 'type': 'money'}],\n",
       " [{'name': '35,1 million euros',\n",
       "   'pos': [28, 31],\n",
       "   'sent_id': 10,\n",
       "   'type': 'money'}],\n",
       " [{'name': 'Edward Hoseah',\n",
       "   'pos': [3, 5],\n",
       "   'sent_id': 11,\n",
       "   'type': 'politics_per'}],\n",
       " [{'name': 'Rwanda', 'pos': [10, 11], 'sent_id': 20, 'type': 'location'},\n",
       "  {'name': 'Rwanda', 'pos': [6, 7], 'sent_id': 22, 'type': 'location'},\n",
       "  {'name': 'Rwanda', 'pos': [1, 2], 'sent_id': 23, 'type': 'location'},\n",
       "  {'name': 'Rwanda', 'pos': [8, 9], 'sent_id': 25, 'type': 'location'}],\n",
       " [{'name': 'president', 'pos': [6, 7], 'sent_id': 23, 'type': 'role'}],\n",
       " [{'name': 'African Union',\n",
       "   'pos': [7, 9],\n",
       "   'sent_id': 26,\n",
       "   'type': 'organization'}],\n",
       " [{'name': '$50 billion', 'pos': [11, 14], 'sent_id': 26, 'type': 'money'}],\n",
       " [{'name': 'Rwandan', 'pos': [0, 1], 'sent_id': 30, 'type': 'gpe0-x'}],\n",
       " [{'name': 'researcher', 'pos': [1, 2], 'sent_id': 30, 'type': 'role'}],\n",
       " [{'name': 'political commentator',\n",
       "   'pos': [3, 5],\n",
       "   'sent_id': 30,\n",
       "   'type': 'role'}],\n",
       " [{'name': 'DW', 'pos': [8, 9], 'sent_id': 30, 'type': 'organization'},\n",
       "  {'name': 'DW', 'pos': [7, 8], 'sent_id': 37, 'type': 'organization'}],\n",
       " [{'name': 'African', 'pos': [13, 14], 'sent_id': 30, 'type': 'loc-x'}],\n",
       " [{'name': 'local newspaper', 'pos': [3, 5], 'sent_id': 33, 'type': 'role'}],\n",
       " [{'name': 'Tanzania Daily News',\n",
       "   'pos': [6, 9],\n",
       "   'sent_id': 33,\n",
       "   'type': 'organization'}],\n",
       " [{'name': 'Tanzanians', 'pos': [1, 2], 'sent_id': 34, 'type': 'gpe0-x'}],\n",
       " [{'name': 'Lightness Elly',\n",
       "   'pos': [17, 19],\n",
       "   'sent_id': 36,\n",
       "   'type': 'person'}],\n",
       " [{'name': 'Arusha', 'pos': [23, 24], 'sent_id': 36, 'type': 'location'},\n",
       "  {'name': 'Arusha', 'pos': [2, 3], 'sent_id': 41, 'type': 'location'}],\n",
       " [{'name': 'resident', 'pos': [1, 2], 'sent_id': 37, 'type': 'role'}]]"
      ]
     },
     "execution_count": 18,
     "metadata": {},
     "output_type": "execute_result"
    }
   ],
   "source": [
    "dwie_train[0]['vertexSet']"
   ]
  },
  {
   "cell_type": "code",
   "execution_count": null,
   "metadata": {},
   "outputs": [],
   "source": [
    "{'entity',\n",
    " 'case', \n",
    " 'manager', \n",
    " 'military_equipment', \n",
    " 'music_title', \n",
    " 'concept', \n",
    " 'gpe', \n",
    " 'journalist', \n",
    " 'sport_referee', \n",
    " 'culture_org', \n",
    " 'employee', \n",
    " 'research_center', \n",
    " 'music_band', \n",
    " 'tv_award', \n",
    " 'festive_event', \n",
    " 'culture_misc', \n",
    " 'sport_award', \n",
    " 'value', \n",
    " 'gpe2', \n",
    " 'gov_per', \n",
    " 'media', \n",
    " 'police_org', \n",
    " 'artist', \n",
    " 'science_per', \n",
    " 'species', \n",
    " 'armed_movement', \n",
    " 'politician_national', \n",
    " 'education_study', \n",
    " 'religious_event', \n",
    " 'royalty', \n",
    " 'writer', \n",
    " 'book_award', \n",
    " 'waterbody', \n",
    " 'exhibition_title', \n",
    " 'festival', \n",
    " 'researcher', \n",
    " 'politics_per', \n",
    " 'policy_institute', \n",
    " 'justice_misc', \n",
    " 'competition', \n",
    " 'politics_misc', \n",
    " 'gpe1-x', \n",
    " 'gpe0', \n",
    " 'offender', \n",
    " 'politics_org', \n",
    " 'sport_coach', \n",
    " 'loc-x', \n",
    " 'gpe0-x', \n",
    " 'technology', \n",
    " 'sport_player', \n",
    " 'sport_team', \n",
    " 'musician', \n",
    " 'police_per', \n",
    " 'military_alliance', \n",
    " 'tv_title', \n",
    " 'religion', \n",
    " 'regio', \n",
    " 'work_of_art', \n",
    " 'movement', \n",
    " 'character', \n",
    " 'culture_facility', \n",
    " 'brand', \n",
    " 'military_mission', \n",
    " 'governmental_organisation',\n",
    " 'party', \n",
    " 'district', \n",
    " 'research_journal', \n",
    " 'money', \n",
    " 'filmfestival', \n",
    " 'military_facility', \n",
    " 'education_student', 'health_drug', 'politician', 'teacher', 'religion_org', 'sport_competition', 'religion_facility', 'incident', 'business_org', 'war', 'footer', 'protest', 'education_facility', 'person', 'film_title', 'advisor', 'storm', 'agency', 'gpe2-x', 'culture_title', 'summit_meeting', 'education_org', 'victim', 'military_rebel', 'health_disease', 'holiday', 'igo', 'prison', 'role', 'health_per', 'history', 'army', 'education_per', 'theatre_title', 'treaty', 'police', 'culture_per', 'event', 'advocacy', 'musical_title', 'actor', 'minister', 'skip', 'politician_local', 'religion-x', 'business_per', 'military_personnel', 'ethnicity', 'film_award', 'politics_facility', 'object', 'judge', 'product', 'organization', 'project', 'health_facility', 'criminal_org', 'book_title', 'company', 'gpe1', 'report', 'clergy', 'island', 'deity', 'ngo', 'location', 'business_misc', 'mountain', 'relative', 'union_member', 'court', 'time', 'street', 'business_facility', 'union', 'other', 'sport_facility', 'sport_org', 'justice_per', 'loc', 'celestial_loc', 'market_exchange', 'scandal', 'trade_fair', 'politics_event', 'activist', 'ministry', 'justice_org', 'facility', 'filmmaker', 'award', 'market_index', 'union_rep', 'sport_head', 'so', 'head_of_gov', 'health_org', 'religion_misc', 'politician_regional', 'union_head', 'ideology', 'language', 'none', 'head_of_state', 'misc'}"
   ]
  }
 ],
 "metadata": {
  "kernelspec": {
   "display_name": "Python 3",
   "language": "python",
   "name": "python3"
  },
  "language_info": {
   "codemirror_mode": {
    "name": "ipython",
    "version": 3
   },
   "file_extension": ".py",
   "mimetype": "text/x-python",
   "name": "python",
   "nbconvert_exporter": "python",
   "pygments_lexer": "ipython3",
   "version": "3.8.5"
  }
 },
 "nbformat": 4,
 "nbformat_minor": 4
}
